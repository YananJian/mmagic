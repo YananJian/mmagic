{
 "cells": [
  {
   "cell_type": "code",
   "execution_count": 1,
   "id": "9be0fdea",
   "metadata": {},
   "outputs": [],
   "source": [
    "import os\n",
    "import json\n",
    "from collections import defaultdict\n",
    "\n",
    "# Path to the DOTA dataset annotations folder\n",
    "annotations_folder = '/data/DOTA_split/annotations/'\n",
    "\n",
    "# Create a defaultdict to store the number of objects and object class for each image\n",
    "image_info = defaultdict(lambda: defaultdict(int))\n",
    "\n",
    "# Loop through each annotation file in the annotations folder\n",
    "for filename in os.listdir(annotations_folder):\n",
    "    if filename.endswith('train_fixed.json'):\n",
    "        # Load the annotation file\n",
    "        with open(os.path.join(annotations_folder, filename), 'r') as f:\n",
    "            annotation = json.load(f)\n",
    "            tmp = annotation['categories']\n",
    "            catid2name = {}\n",
    "            for item in tmp:\n",
    "                catid2name[item['id']] = item['name']\n",
    "\n",
    "        # Update the defaultdict with the number of objects and object class for each image in the annotation data\n",
    "        for obj in annotation['annotations']:\n",
    "            image_id = obj['image_id']\n",
    "            class_name = catid2name[obj['category_id']]\n",
    "            image_info[image_id][class_name] += 1"
   ]
  },
  {
   "cell_type": "code",
   "execution_count": 5,
   "id": "8931c4f5",
   "metadata": {},
   "outputs": [],
   "source": [
    "import random\n",
    "\n",
    "classid2imcrop = defaultdict(list)\n",
    "for obj in annotation['annotations']:\n",
    "    if obj['area'] >= 0:\n",
    "        classid2imcrop[obj['category_id']].append(obj)\n",
    "        \n",
    "top_sized_classid2imcrop = defaultdict(list)\n",
    "for k,v in classid2imcrop.items():  \n",
    "    sorted_list = sorted(v, key=lambda x: x['area'], reverse=True)\n",
    "    # select top sized crops\n",
    "    top_sized_classid2imcrop[k] = sorted_list[:500]\n",
    "    # random select crops\n",
    "    #sample_size = 500\n",
    "    #top_sized_classid2imcrop[k] = [random.choice(v) for _ in range(sample_size)]\n",
    "\n"
   ]
  },
  {
   "cell_type": "code",
   "execution_count": 32,
   "id": "9cfa2000",
   "metadata": {},
   "outputs": [
    {
     "name": "stdout",
     "output_type": "stream",
     "text": [
      "1 {'area': 90.0, 'category_id': 0, 'iscrowd': 0, 'bbox': [64, 203, 10, 9], 'image_id': 22921, 'id': 106504}\n",
      "491 {'area': 35.0, 'category_id': 0, 'iscrowd': 0, 'bbox': [85, 109, 5, 7], 'image_id': 84333, 'id': 378699}\n"
     ]
    }
   ],
   "source": [
    "for i, item in enumerate(top_sized_classid2imcrop[0]):\n",
    "    if item['area'] < 100:\n",
    "        print (i, item)"
   ]
  },
  {
   "cell_type": "code",
   "execution_count": 7,
   "id": "fcf90994",
   "metadata": {},
   "outputs": [],
   "source": [
    "imgid2fname = {anno['id']:anno['file_name'] for anno in annotation['images']}"
   ]
  },
  {
   "cell_type": "code",
   "execution_count": 8,
   "id": "ac705a6d",
   "metadata": {},
   "outputs": [],
   "source": [
    "from PIL import Image\n",
    "import matplotlib.pyplot as plt \n",
    "import numpy as np"
   ]
  },
  {
   "cell_type": "code",
   "execution_count": 9,
   "id": "6cad903f",
   "metadata": {},
   "outputs": [],
   "source": [
    "def crop_image(image, x, y, xsize=None, ysize=None):\n",
    "    indexes = (x, y, x+xsize, y+ysize)\n",
    "    cropped_image = image.crop(indexes)\n",
    "    return cropped_image"
   ]
  },
  {
   "cell_type": "code",
   "execution_count": 13,
   "id": "52c963d0",
   "metadata": {},
   "outputs": [],
   "source": [
    "img_root = '/data/DOTA_split/train/images/'\n",
    "picked_classid2imcrop = defaultdict(list)\n",
    "\n",
    "for k,v in top_sized_classid2imcrop.items():\n",
    "  \n",
    "    for vv in v:\n",
    "        imgid = vv['image_id']\n",
    "        bbox = vv['bbox']\n",
    "        img = Image.open(img_root+imgid2fname[imgid])\n",
    "        w, h = img.size\n",
    "        \n",
    "        crop_lx, crop_ly, crop_xsize, crop_ysize = bbox[0]-5, bbox[1]-5, bbox[2]+10, bbox[3]+10\n",
    "        if crop_lx < 0:\n",
    "            crop_lx = 0\n",
    "        if crop_ly < 0:\n",
    "            crop_ly = 0\n",
    "        if crop_lx+crop_xsize > w:\n",
    "            crop_xsize = w - crop_lx\n",
    "        if crop_ly+crop_ysize > h:\n",
    "            crop_ysize = h - crop_ly\n",
    "        cropped_image = crop_image(img, crop_lx, crop_ly, crop_xsize, crop_ysize)\n",
    "        picked_classid2imcrop[k].append(cropped_image)"
   ]
  },
  {
   "cell_type": "code",
   "execution_count": 33,
   "id": "ac0cbe96",
   "metadata": {},
   "outputs": [
    {
     "data": {
      "text/plain": [
       "<matplotlib.image.AxesImage at 0x7fcb94bbd990>"
      ]
     },
     "execution_count": 33,
     "metadata": {},
     "output_type": "execute_result"
    },
    {
     "data": {
      "image/png": "[encoded data removed]",
      "text/plain": [
       "<Figure size 432x288 with 1 Axes>"
      ]
     },
     "metadata": {
      "needs_background": "light"
     },
     "output_type": "display_data"
    }
   ],
   "source": [
    "plt.figure()\n",
    "plt.imshow(picked_classid2imcrop[0][491])"
   ]
  },
  {
   "cell_type": "code",
   "execution_count": 34,
   "id": "733b7919",
   "metadata": {},
   "outputs": [
    {
     "name": "stdout",
     "output_type": "stream",
     "text": [
      "0\n",
      "9\n",
      "10\n",
      "7\n",
      "1\n",
      "3\n",
      "4\n",
      "14\n",
      "11\n",
      "8\n",
      "12\n",
      "17\n",
      "2\n",
      "5\n",
      "16\n",
      "6\n",
      "13\n",
      "15\n"
     ]
    }
   ],
   "source": [
    "all_classids = top_sized_classid2imcrop.keys()\n",
    "prompts = {}\n",
    "save_dir = '/data/DOTA_split_500crops_per_cls_train'\n",
    "for cls_id in all_classids:\n",
    "    print (cls_id)\n",
    "    for i, (anno, imgcrop) in enumerate(zip(top_sized_classid2imcrop[cls_id], picked_classid2imcrop[cls_id])):\n",
    "        new_fname = imgid2fname[anno['image_id']].replace('.jpg', '__'+str(i)+'.jpg')\n",
    "        imgcrop.save(os.path.join(save_dir, new_fname))\n",
    "        prompts[new_fname] = 'birdview of ' + catid2name[anno['category_id']]\n",
    "with open('crop_captions.json', 'w') as f:\n",
    "    json.dump(prompts, f)\n"
   ]
  }
 ],
 "metadata": {
  "kernelspec": {
   "display_name": "Python 3 (ipykernel)",
   "language": "python",
   "name": "python3"
  },
  "language_info": {
   "codemirror_mode": {
    "name": "ipython",
    "version": 3
   },
   "file_extension": ".py",
   "mimetype": "text/x-python",
   "name": "python",
   "nbconvert_exporter": "python",
   "pygments_lexer": "ipython3",
   "version": "3.10.8"
  }
 },
 "nbformat": 4,
 "nbformat_minor": 5
}
